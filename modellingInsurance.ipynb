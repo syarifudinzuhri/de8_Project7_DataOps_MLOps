{
 "cells": [
  {
   "cell_type": "code",
   "execution_count": 1,
   "metadata": {},
   "outputs": [],
   "source": [
    "#!python3\n",
    "\n",
    "import os\n",
    "import pickle\n",
    "import time\n",
    "\n",
    "import pandas as pd\n",
    "import numpy as np\n",
    "\n",
    "from sklearn.preprocessing import StandardScaler\n",
    "from sklearn.preprocessing import LabelEncoder\n",
    "from sklearn.preprocessing import OneHotEncoder\n",
    "from sklearn.linear_model import LogisticRegression\n",
    "from sklearn.neighbors import KNeighborsClassifier\n",
    "\n",
    "import warnings\n",
    "warnings.filterwarnings('ignore')"
   ]
  },
  {
   "cell_type": "code",
   "execution_count": 2,
   "metadata": {},
   "outputs": [],
   "source": [
    "def prepOneHotEncoder(df, col, path):\n",
    "    filename = 'prep'+col+'.pkl'\n",
    "    labelOnetHotEncoder = OneHotEncoder()\n",
    "    dfOneHotEncoder = pd.DataFrame(labelOnetHotEncoder.fit_transform(df[[col]]).toarray(), \\\n",
    "                                   columns = [col+\"_\"+str(i+1) for i in range(len(df[col].unique()))])\n",
    "    \n",
    "    pickle.dump(labelOnetHotEncoder, open(path + filename, 'wb'))\n",
    "    df = pd.concat([df.drop(col, axis=1), dfOneHotEncoder], axis=1)\n",
    "    return df\n",
    "\n",
    "def PrepLabelEncoder(df, col, path):\n",
    "    filename = 'prep'+col+'.pkl'\n",
    "    labelencoder = LabelEncoder()\n",
    "    dflabelencoder = pd.DataFrame(labelencoder.fit_transform(df[[col]]), \\\n",
    "                                  columns = [col])\n",
    "    \n",
    "    pickle.dump(labelencoder, open(path + filename, 'wb'))\n",
    "    df = pd.concat([df.drop(col, axis=1), dflabelencoder], axis=1)\n",
    "    return df\n",
    "\n",
    "def prepStandarScaler(df, col, path):\n",
    "    filename = 'prep'+col+'.pkl'\n",
    "    scallingStandarScaler = StandardScaler()\n",
    "    dfStandarScaler = pd.DataFrame(scallingStandarScaler.fit_transform(df[[col]]), \\\n",
    "                                   columns = [col])\n",
    "\n",
    "    pickle.dump(scallingStandarScaler, open(path + filename, 'wb'))\n",
    "    df = pd.concat([df.drop(col, axis=1), dfStandarScaler], axis=1)\n",
    "    return df"
   ]
  },
  {
   "cell_type": "code",
   "execution_count": 3,
   "metadata": {},
   "outputs": [
    {
     "data": {
      "text/html": [
       "<div>\n",
       "<style scoped>\n",
       "    .dataframe tbody tr th:only-of-type {\n",
       "        vertical-align: middle;\n",
       "    }\n",
       "\n",
       "    .dataframe tbody tr th {\n",
       "        vertical-align: top;\n",
       "    }\n",
       "\n",
       "    .dataframe thead th {\n",
       "        text-align: right;\n",
       "    }\n",
       "</style>\n",
       "<table border=\"1\" class=\"dataframe\">\n",
       "  <thead>\n",
       "    <tr style=\"text-align: right;\">\n",
       "      <th></th>\n",
       "      <th>Gender</th>\n",
       "      <th>Age</th>\n",
       "      <th>Annual_Premium</th>\n",
       "      <th>Vehicle_Age</th>\n",
       "      <th>Response</th>\n",
       "    </tr>\n",
       "  </thead>\n",
       "  <tbody>\n",
       "    <tr>\n",
       "      <th>0</th>\n",
       "      <td>Male</td>\n",
       "      <td>44</td>\n",
       "      <td>40454.0</td>\n",
       "      <td>&gt; 2 Years</td>\n",
       "      <td>1</td>\n",
       "    </tr>\n",
       "  </tbody>\n",
       "</table>\n",
       "</div>"
      ],
      "text/plain": [
       "  Gender  Age  Annual_Premium Vehicle_Age  Response\n",
       "0   Male   44         40454.0   > 2 Years         1"
      ]
     },
     "execution_count": 3,
     "metadata": {},
     "output_type": "execute_result"
    }
   ],
   "source": [
    "pathPackages = os.getcwd()+\"\\\\\"+\"packages\"+\"\\\\\"\n",
    "pathData = os.getcwd()+\"\\\\\"+\"data\"+\"\\\\\"\n",
    "    \n",
    "data = pd.read_csv(pathData + 'train.csv')\n",
    "data = data.drop('id', axis=1)\n",
    "data = data[['Gender','Age','Annual_Premium','Vehicle_Age','Response']]\n",
    "data.head(1)"
   ]
  },
  {
   "cell_type": "code",
   "execution_count": 4,
   "metadata": {},
   "outputs": [
    {
     "data": {
      "text/html": [
       "<div>\n",
       "<style scoped>\n",
       "    .dataframe tbody tr th:only-of-type {\n",
       "        vertical-align: middle;\n",
       "    }\n",
       "\n",
       "    .dataframe tbody tr th {\n",
       "        vertical-align: top;\n",
       "    }\n",
       "\n",
       "    .dataframe thead th {\n",
       "        text-align: right;\n",
       "    }\n",
       "</style>\n",
       "<table border=\"1\" class=\"dataframe\">\n",
       "  <thead>\n",
       "    <tr style=\"text-align: right;\">\n",
       "      <th></th>\n",
       "      <th>Gender</th>\n",
       "      <th>Age</th>\n",
       "      <th>Annual_Premium</th>\n",
       "      <th>Vehicle_Age_1</th>\n",
       "      <th>Vehicle_Age_2</th>\n",
       "      <th>Vehicle_Age_3</th>\n",
       "    </tr>\n",
       "  </thead>\n",
       "  <tbody>\n",
       "    <tr>\n",
       "      <th>0</th>\n",
       "      <td>1</td>\n",
       "      <td>0.333777</td>\n",
       "      <td>0.574539</td>\n",
       "      <td>0.0</td>\n",
       "      <td>0.0</td>\n",
       "      <td>1.0</td>\n",
       "    </tr>\n",
       "  </tbody>\n",
       "</table>\n",
       "</div>"
      ],
      "text/plain": [
       "   Gender       Age  Annual_Premium  Vehicle_Age_1  Vehicle_Age_2  \\\n",
       "0       1  0.333777        0.574539            0.0            0.0   \n",
       "\n",
       "   Vehicle_Age_3  \n",
       "0            1.0  "
      ]
     },
     "execution_count": 4,
     "metadata": {},
     "output_type": "execute_result"
    }
   ],
   "source": [
    "X = data.drop('Response', axis=1)\n",
    "y = data['Response']\n",
    "\n",
    "pickle.dump(X.columns.tolist(), open(pathPackages + 'columnPreparation.pkl','wb'))\n",
    "for col in X.columns:\n",
    "    if col in ['Gender']:\n",
    "        X = PrepLabelEncoder(X, col, pathPackages)\n",
    "    elif col in ['Vehicle_Age']:\n",
    "        X = prepOneHotEncoder(X, col, pathPackages)\n",
    "    elif col in ['Age','Annual_Premium']:\n",
    "        X = prepStandarScaler(X, col, pathPackages)\n",
    "\n",
    "pickle.dump(X.columns.tolist(), open(pathPackages + 'columnModelling.pkl','wb'))\n",
    "X.head(1)"
   ]
  },
  {
   "cell_type": "code",
   "execution_count": 5,
   "metadata": {},
   "outputs": [
    {
     "name": "stdout",
     "output_type": "stream",
     "text": [
      "2.554792642593384 Second Time Trining Model ....\n"
     ]
    }
   ],
   "source": [
    "start = time.time()\n",
    "\n",
    "model = KNeighborsClassifier(n_neighbors=5)\n",
    "model.fit(X,y)\n",
    "\n",
    "stop = time.time()\n",
    "with open(pathPackages + 'model_InsuranceRecommendation.pkl','wb') as file:\n",
    "    pickle.dump(model, file)\n",
    "print(f\"{stop-start} Second Time Trining Model ....\")\n"
   ]
  },
  {
   "cell_type": "code",
   "execution_count": null,
   "metadata": {},
   "outputs": [],
   "source": []
  }
 ],
 "metadata": {
  "kernelspec": {
   "display_name": "Python 3 (ipykernel)",
   "language": "python",
   "name": "python3"
  },
  "language_info": {
   "codemirror_mode": {
    "name": "ipython",
    "version": 3
   },
   "file_extension": ".py",
   "mimetype": "text/x-python",
   "name": "python",
   "nbconvert_exporter": "python",
   "pygments_lexer": "ipython3",
   "version": "3.9.12"
  }
 },
 "nbformat": 4,
 "nbformat_minor": 4
}
